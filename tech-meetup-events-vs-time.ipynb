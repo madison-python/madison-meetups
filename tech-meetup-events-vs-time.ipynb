{
 "cells": [
  {
   "cell_type": "markdown",
   "metadata": {},
   "source": [
    "# Madison tech meetup \"yes\" RSVPs vs. time"
   ]
  },
  {
   "cell_type": "code",
   "execution_count": null,
   "metadata": {},
   "outputs": [],
   "source": [
    "import pandas as pd\n",
    "import numpy as np\n",
    "from textwrap import wrap\n",
    "import matplotlib.pyplot as plt\n",
    "\n",
    "from madison_meetups import get_madison_tech_groups, get_all_group_events\n",
    "\n",
    "%matplotlib inline"
   ]
  },
  {
   "cell_type": "markdown",
   "metadata": {},
   "source": [
    "Load information about each tech meetup group in Madison, WI. \n",
    "\n",
    "<div class=\"alert alert-block alert-info\">\n",
    "    _NOTE_: The meetup api will write lots of things to `sys.stdout` and `sys.sterr`. The built-in IPython `%%capture` magic command will supress this (for more info see http://ipython.readthedocs.io/en/stable/interactive/magics.html#cellmagic-capture)\n",
    "</div>"
   ]
  },
  {
   "cell_type": "code",
   "execution_count": null,
   "metadata": {},
   "outputs": [],
   "source": [
    "%%capture\n",
    "madison_tech_groups = get_madison_tech_groups()"
   ]
  },
  {
   "cell_type": "code",
   "execution_count": null,
   "metadata": {},
   "outputs": [],
   "source": [
    "madison_tech_groups.head()"
   ]
  },
  {
   "cell_type": "markdown",
   "metadata": {},
   "source": [
    "Relevant data for each meetup group"
   ]
  },
  {
   "cell_type": "code",
   "execution_count": null,
   "metadata": {},
   "outputs": [],
   "source": [
    "madison_tech_groups.columns"
   ]
  },
  {
   "cell_type": "markdown",
   "metadata": {},
   "source": [
    "Load Madison tech meetup event data (this may take several seconds)"
   ]
  },
  {
   "cell_type": "code",
   "execution_count": null,
   "metadata": {},
   "outputs": [],
   "source": [
    "%%capture\n",
    "group_events = get_all_group_events(madison_tech_groups)"
   ]
  },
  {
   "cell_type": "markdown",
   "metadata": {},
   "source": [
    "Each row in `group_events` represents a meetup event"
   ]
  },
  {
   "cell_type": "code",
   "execution_count": null,
   "metadata": {},
   "outputs": [],
   "source": [
    "group_events.head()"
   ]
  },
  {
   "cell_type": "code",
   "execution_count": null,
   "metadata": {},
   "outputs": [],
   "source": [
    "group_events.columns"
   ]
  },
  {
   "cell_type": "markdown",
   "metadata": {},
   "source": [
    "Convert the `time` column in `group_events` to `datetime` objects"
   ]
  },
  {
   "cell_type": "code",
   "execution_count": null,
   "metadata": {},
   "outputs": [],
   "source": [
    "group_events['event_time'] = group_events.time.apply(pd.to_datetime, unit='ms')\n",
    "group_events['event_time'].head()"
   ]
  },
  {
   "cell_type": "markdown",
   "metadata": {},
   "source": [
    "Get groups with largest number of members "
   ]
  },
  {
   "cell_type": "code",
   "execution_count": null,
   "metadata": {},
   "outputs": [],
   "source": [
    "num_top = 5\n",
    "top_names = list(madison_tech_groups.loc[madison_tech_groups.members.nlargest(num_top).index, 'name'])\n",
    "if 'Madpy' not in top_names:\n",
    "    top_names.append('Madpy')\n",
    "top_names"
   ]
  },
  {
   "cell_type": "markdown",
   "metadata": {},
   "source": [
    "Plot the number of \"yes\" RSVPs vs. time for MadPy + top Madison tech meetups"
   ]
  },
  {
   "cell_type": "code",
   "execution_count": null,
   "metadata": {},
   "outputs": [],
   "source": [
    "fig, ax = plt.subplots(figsize=(10, 5))\n",
    "for group_name, group in group_events.groupby('group_name'):\n",
    "    if group_name not in top_names:\n",
    "        continue\n",
    "    else:\n",
    "        time_series = pd.Series(group['yes_rsvp_count'].values, index=group['event_time'])\n",
    "        \n",
    "        if group_name == 'Madpy':\n",
    "            color = 'k'\n",
    "            lw = 2\n",
    "        else:\n",
    "            color = None\n",
    "            lw = 1\n",
    "            \n",
    "        # Don't want really long names in single line of legend\n",
    "        label = '\\n'.join(wrap(group_name, 20))\n",
    "        time_series.plot(label=label,\n",
    "                         lw=lw,\n",
    "                         color=color,\n",
    "                         xlim=('2017', pd.Timestamp.today()),\n",
    "                         ax=ax)\n",
    "ax.set_ylim(0)\n",
    "ax.set_xlabel('')\n",
    "ax.set_ylabel('Number of \"yes\" RSVPs')\n",
    "\n",
    "ax.legend(loc='center left', bbox_to_anchor=(1, 0.5))\n",
    "ax.grid(axis='y', ls=':')\n",
    "plt.tight_layout()\n",
    "plt.show()"
   ]
  }
 ],
 "metadata": {
  "kernelspec": {
   "display_name": "Python 3",
   "language": "python",
   "name": "python3"
  },
  "language_info": {
   "codemirror_mode": {
    "name": "ipython",
    "version": 3
   },
   "file_extension": ".py",
   "mimetype": "text/x-python",
   "name": "python",
   "nbconvert_exporter": "python",
   "pygments_lexer": "ipython3",
   "version": "3.6.4"
  }
 },
 "nbformat": 4,
 "nbformat_minor": 2
}
